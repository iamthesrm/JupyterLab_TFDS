{
 "cells": [
  {
   "cell_type": "markdown",
   "id": "a22b14d0-40c4-43d3-aa84-5c8b9765d0f4",
   "metadata": {},
   "source": [
    "# H1: Data Science Tools and Ecosystem"
   ]
  },
  {
   "cell_type": "markdown",
   "id": "4db8d9f6-a016-4863-ac5c-23717c25b7b3",
   "metadata": {},
   "source": [
    "In this notebook, Data Science Tools and Ecosystem are summarized."
   ]
  },
  {
   "cell_type": "markdown",
   "id": "5ec5af11-67aa-4464-943e-0541d6d9cb1b",
   "metadata": {},
   "source": [
    "Some of the popular languages that Data Scientists use are:\n",
    "\n",
    "1. Python\n",
    "2. R\n",
    "3. SQL"
   ]
  },
  {
   "cell_type": "markdown",
   "id": "baf4fca9-1ac9-4ecc-b4d6-ab0611598d43",
   "metadata": {},
   "source": [
    "Some of the commonly used libraries used by Data Scientists include:\n",
    "    \n",
    "1. Numpy\n",
    "2. Pandas\n",
    "3. Matplotlib"
   ]
  },
  {
   "cell_type": "markdown",
   "id": "dff03816-8f91-49ec-b5c3-21d573a7d099",
   "metadata": {},
   "source": [
    "| Data Science Tools       |\n",
    "|--------------------------|\n",
    "| Jupyter Notebook         |\n",
    "| RStudio                  |\n",
    "| Apache Zeppelin          |\n"
   ]
  },
  {
   "cell_type": "code",
   "execution_count": 1,
   "id": "c25aeda1-c228-4641-9d9f-6f0b564a2c28",
   "metadata": {
    "tags": []
   },
   "outputs": [
    {
     "name": "stdout",
     "output_type": "stream",
     "text": [
      "8\n",
      "6\n",
      "42\n",
      "5.0\n"
     ]
    }
   ],
   "source": [
    "### Examples of Evaluating Arithmetic Expressions in Python\n",
    "\n",
    "result_add = 5 + 3\n",
    "print(result_add)\n",
    "\n",
    "result_sub = 10 - 4\n",
    "print(result_sub)\n",
    "\n",
    "result_mul = 6 * 7\n",
    "print(result_mul)\n",
    "\n",
    "result_div = 15 / 3\n",
    "print(result_div)\n"
   ]
  },
  {
   "cell_type": "code",
   "execution_count": null,
   "id": "1de347fa-3403-4a40-8c16-1e5415e20cdb",
   "metadata": {},
   "outputs": [],
   "source": []
  }
 ],
 "metadata": {
  "kernelspec": {
   "display_name": "Python",
   "language": "python",
   "name": "conda-env-python-py"
  },
  "language_info": {
   "codemirror_mode": {
    "name": "ipython",
    "version": 3
   },
   "file_extension": ".py",
   "mimetype": "text/x-python",
   "name": "python",
   "nbconvert_exporter": "python",
   "pygments_lexer": "ipython3",
   "version": "3.7.12"
  }
 },
 "nbformat": 4,
 "nbformat_minor": 5
}
