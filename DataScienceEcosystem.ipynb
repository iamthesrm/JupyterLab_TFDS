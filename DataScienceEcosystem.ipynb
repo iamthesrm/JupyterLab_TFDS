{
 "cells": [
  {
   "cell_type": "markdown",
   "id": "0a35046a-c275-4469-9af5-7ce0e00bc847",
   "metadata": {
    "tags": []
   },
   "source": [
    "# Data Science Tools and Ecosystem"
   ]
  },
  {
   "cell_type": "markdown",
   "id": "0d086c00-145b-4d9f-a94f-a2b5840f54cb",
   "metadata": {},
   "source": [
    "In this notebook, Data Science Tools and Ecosystem are summarized."
   ]
  },
  {
   "cell_type": "markdown",
   "id": "346880bf-8086-4133-ad61-b5fd23a7d6b2",
   "metadata": {},
   "source": [
    "**Objectives:**\n",
    "\n",
    "- Create a Jupyter Notebook\n",
    "- Insert code and markdown cells\n",
    "- Share your notebook through GitHub\n",
    "- List popular languages for Data Science:\n",
    "  - Python\n",
    "  - R\n",
    "  - Julia"
   ]
  },
  {
   "cell_type": "markdown",
   "id": "22d64ef9-5dfa-4d83-8f16-75243a6c0cbc",
   "metadata": {},
   "source": [
    "Some of the commonly used libraries used by Data Scientists include:\n",
    "\n",
    "1. NumPy\n",
    "2. Pandas\n",
    "3. Matplotlib"
   ]
  },
  {
   "cell_type": "markdown",
   "id": "77c1c05b-2146-43e5-978d-8e44eda85fb4",
   "metadata": {},
   "source": [
    "| Data Science Tools       |\n",
    "|--------------------------|\n",
    "| Jupyter Notebook         |\n",
    "| RStudio                  |\n",
    "| Apache Zeppelin          |"
   ]
  },
  {
   "cell_type": "code",
   "execution_count": null,
   "id": "6aae2d05-ec3e-4a96-9439-a73ff0339fb9",
   "metadata": {},
   "outputs": [],
   "source": [
    "Some of the popular languages that Data Scientists use are:\n",
    "\n",
    "1. Python\n",
    "2. R\n",
    "3. SQL"
   ]
  },
  {
   "cell_type": "code",
   "execution_count": null,
   "id": "d2e3ccc8-abb9-4bff-9e16-1300dbecafe8",
   "metadata": {},
   "outputs": [],
   "source": [
    "### Examples of Evaluating Arithmetic Expressions in Python\n",
    "\n",
    "Below are a few examples of evaluating arithmetic expressions in Python:\n",
    "result_add = 5 + 3\n",
    "result_sub = 10 - 4\n",
    "result_mul = 6 * 7\n",
    "result_div = 15 / 3"
   ]
  },
  {
   "cell_type": "code",
   "execution_count": null,
   "id": "95ae17b0-d4e7-480a-8f88-40caffbdab7c",
   "metadata": {},
   "outputs": [],
   "source": [
    "# This is a simple arithmetic expression to multiply then add integers\n",
    "result = (3 * 4) + 5\n",
    "print(result)"
   ]
  },
  {
   "cell_type": "code",
   "execution_count": null,
   "id": "b94ccacf-810a-4c1d-bb67-139d4544055a",
   "metadata": {},
   "outputs": [],
   "source": [
    "# This will convert 200 minutes to hours by dividing by 60\n",
    "minutes = 200\n",
    "hours = minutes / 60\n",
    "print(hours)"
   ]
  },
  {
   "cell_type": "code",
   "execution_count": null,
   "id": "fa2f7b7a-d28a-4697-a91e-cbcf2f3853f9",
   "metadata": {},
   "outputs": [],
   "source": [
    "## Author\n",
    "\n",
    "Author name is: SHAHARIAZZAMAN JOY"
   ]
  }
 ],
 "metadata": {
  "kernelspec": {
   "display_name": "Python",
   "language": "python",
   "name": "conda-env-python-py"
  },
  "language_info": {
   "codemirror_mode": {
    "name": "ipython",
    "version": 3
   },
   "file_extension": ".py",
   "mimetype": "text/x-python",
   "name": "python",
   "nbconvert_exporter": "python",
   "pygments_lexer": "ipython3",
   "version": "3.7.12"
  }
 },
 "nbformat": 4,
 "nbformat_minor": 5
}
